{
 "cells": [
  {
   "cell_type": "markdown",
   "id": "4d16ed17-2794-4074-a9ff-1db028115bdf",
   "metadata": {},
   "source": [
    "### Load Dataset"
   ]
  },
  {
   "cell_type": "code",
   "execution_count": 1,
   "id": "fb787e3f-4980-45dc-adbc-8b8b9925e9bb",
   "metadata": {},
   "outputs": [],
   "source": [
    "import pandas as pd\n",
    "import numpy as np"
   ]
  },
  {
   "cell_type": "code",
   "execution_count": 2,
   "id": "8a079eca-bf05-44fd-b2aa-dc8857ca32e1",
   "metadata": {},
   "outputs": [],
   "source": [
    "df = pd.read_csv('bbc_data.csv.zip')"
   ]
  },
  {
   "cell_type": "code",
   "execution_count": 3,
   "id": "e27b551c-5d00-4ca0-b894-855d401d1696",
   "metadata": {},
   "outputs": [
    {
     "data": {
      "text/html": [
       "<div>\n",
       "<style scoped>\n",
       "    .dataframe tbody tr th:only-of-type {\n",
       "        vertical-align: middle;\n",
       "    }\n",
       "\n",
       "    .dataframe tbody tr th {\n",
       "        vertical-align: top;\n",
       "    }\n",
       "\n",
       "    .dataframe thead th {\n",
       "        text-align: right;\n",
       "    }\n",
       "</style>\n",
       "<table border=\"1\" class=\"dataframe\">\n",
       "  <thead>\n",
       "    <tr style=\"text-align: right;\">\n",
       "      <th></th>\n",
       "      <th>data</th>\n",
       "      <th>labels</th>\n",
       "    </tr>\n",
       "  </thead>\n",
       "  <tbody>\n",
       "    <tr>\n",
       "      <th>0</th>\n",
       "      <td>Musicians to tackle US red tape  Musicians gro...</td>\n",
       "      <td>entertainment</td>\n",
       "    </tr>\n",
       "    <tr>\n",
       "      <th>1</th>\n",
       "      <td>U2s desire to be number one  U2, who have won ...</td>\n",
       "      <td>entertainment</td>\n",
       "    </tr>\n",
       "    <tr>\n",
       "      <th>2</th>\n",
       "      <td>Rocker Doherty in on-stage fight  Rock singer ...</td>\n",
       "      <td>entertainment</td>\n",
       "    </tr>\n",
       "    <tr>\n",
       "      <th>3</th>\n",
       "      <td>Snicket tops US box office chart  The film ada...</td>\n",
       "      <td>entertainment</td>\n",
       "    </tr>\n",
       "    <tr>\n",
       "      <th>4</th>\n",
       "      <td>Oceans Twelve raids box office  Oceans Twelve,...</td>\n",
       "      <td>entertainment</td>\n",
       "    </tr>\n",
       "  </tbody>\n",
       "</table>\n",
       "</div>"
      ],
      "text/plain": [
       "                                                data         labels\n",
       "0  Musicians to tackle US red tape  Musicians gro...  entertainment\n",
       "1  U2s desire to be number one  U2, who have won ...  entertainment\n",
       "2  Rocker Doherty in on-stage fight  Rock singer ...  entertainment\n",
       "3  Snicket tops US box office chart  The film ada...  entertainment\n",
       "4  Oceans Twelve raids box office  Oceans Twelve,...  entertainment"
      ]
     },
     "execution_count": 3,
     "metadata": {},
     "output_type": "execute_result"
    }
   ],
   "source": [
    "df.head()"
   ]
  },
  {
   "cell_type": "code",
   "execution_count": 4,
   "id": "3ab8ccfe-461a-48b3-a263-6288b658f93c",
   "metadata": {},
   "outputs": [
    {
     "data": {
      "text/plain": [
       "(2225, 2)"
      ]
     },
     "execution_count": 4,
     "metadata": {},
     "output_type": "execute_result"
    }
   ],
   "source": [
    "df.shape"
   ]
  },
  {
   "cell_type": "markdown",
   "id": "cf6c4955-85cd-48e8-9c49-079ad38dd6b2",
   "metadata": {},
   "source": [
    "#### Insights:\n",
    "1. The dataset has text of document and label of that document.\n",
    "2. Based of the text, this label has to be predicted."
   ]
  },
  {
   "cell_type": "markdown",
   "id": "d225e17d-9975-44e4-b03c-331fb7b704cf",
   "metadata": {},
   "source": [
    "### Exploratory Data Analysis (EDA)"
   ]
  },
  {
   "cell_type": "code",
   "execution_count": 6,
   "id": "55d4976f-ba78-40db-839d-bb76d515ea60",
   "metadata": {},
   "outputs": [
    {
     "data": {
      "text/plain": [
       "labels\n",
       "sport            511\n",
       "business         510\n",
       "politics         417\n",
       "tech             401\n",
       "entertainment    386\n",
       "Name: count, dtype: int64"
      ]
     },
     "execution_count": 6,
     "metadata": {},
     "output_type": "execute_result"
    }
   ],
   "source": [
    "df['labels'].value_counts()"
   ]
  },
  {
   "cell_type": "code",
   "execution_count": 7,
   "id": "a056bde5-5f13-4a4b-b34a-960821e93f2b",
   "metadata": {},
   "outputs": [
    {
     "name": "stdout",
     "output_type": "stream",
     "text": [
      "<class 'pandas.core.frame.DataFrame'>\n",
      "RangeIndex: 2225 entries, 0 to 2224\n",
      "Data columns (total 2 columns):\n",
      " #   Column  Non-Null Count  Dtype \n",
      "---  ------  --------------  ----- \n",
      " 0   data    2225 non-null   object\n",
      " 1   labels  2225 non-null   object\n",
      "dtypes: object(2)\n",
      "memory usage: 34.9+ KB\n"
     ]
    }
   ],
   "source": [
    "df.info()"
   ]
  },
  {
   "cell_type": "code",
   "execution_count": 8,
   "id": "33dc4e88-fb2f-4844-8b76-3ed7da1209a0",
   "metadata": {},
   "outputs": [
    {
     "name": "stdout",
     "output_type": "stream",
     "text": [
      "Musicians to tackle US red tape  Musicians groups are to tackle US visa regulations which are blamed for hindering British acts chances of succeeding across the Atlantic.  A singer hoping to perform in the US can expect to pay $1,300 (xc2xa3680) simply for obtaining a visa. Groups including the Musicians Union are calling for an end to the \"raw deal\" faced by British performers. US acts are not faced with comparable expense and bureaucracy when visiting the UK for promotional purposes.  Nigel McCune from the Musicians Union said British musicians are \"disadvantaged\" compared to their US counterparts. A sponsor has to make a petition on their behalf, which is a form amounting to nearly 30 pages, while musicians face tougher regulations than athletes and journalists. \"If you make a mistake on your form, you risk a five-year ban and thus the ability to further your career,\" says Mr McCune.  \"The US is the worlds biggest music market, which means something has to be done about the creaky bureaucracy,\" says Mr McCune. \"The current situation is preventing British acts from maintaining momentum and developing in the US,\" he added.  The Musicians Union stance is being endorsed by the Music Managers Forum (MMF), who say British artists face \"an uphill struggle\" to succeed in the US, thanks to the tough visa requirements, which are also seen as impractical. The MMFs general secretary James Seller said: \"Imagine if you were an orchestra from the Orkneys? Every member would have to travel to London to have their visas processed.\"  \"The US market is seen as the holy grail and one of the benchmarks of success, and were still going to fight to get in there. \"Its still very important, but there are other markets like Europe, India and China,\" added Mr Seller. A Department for Media, Culture and Sport spokeswoman said: \"Were aware that people are experiencing problems, and are working with the US embassy and record industry to see what we can do about it.\" A US Embassy spokesman said: \"We are aware that entertainers require visas for time-specific visas and are doing everything we can to process those applications speedily.\" \"We are aware of the importance of cultural exchange and we will do our best to facilitate that,\" he added. \n"
     ]
    }
   ],
   "source": [
    "print(df['data'].iloc[0])"
   ]
  },
  {
   "cell_type": "markdown",
   "id": "d39f5796-fdc2-4d2c-b519-f3e4ed7d9449",
   "metadata": {},
   "source": [
    "#### Insights:\n",
    "1. The dataset does not have imbalance.\n",
    "2. The text is raw and has to be preprocessed."
   ]
  },
  {
   "cell_type": "markdown",
   "id": "fd8974c5-98ec-49af-9d95-61883c928894",
   "metadata": {},
   "source": [
    "### Text Preprocessing"
   ]
  },
  {
   "cell_type": "code",
   "execution_count": 9,
   "id": "d86f477c-1821-40e7-aaeb-d7a7da7b9a0e",
   "metadata": {},
   "outputs": [],
   "source": [
    "import spacy\n",
    "import re\n",
    "\n",
    "nlp = spacy.load(\"en_core_web_sm\")\n",
    "\n",
    "def preprocess_text(text: str) -> str:\n",
    "    \"\"\"\n",
    "    Preprocess text by:\n",
    "    - Lowercasing\n",
    "    - Removing punctuation, numbers, special chars\n",
    "    - Removing stopwords\n",
    "    - Lemmatizing\n",
    "    \"\"\"\n",
    "    \n",
    "    text = text.lower()\n",
    "    text = re.sub(r'[^a-z\\s]', ' ', text)  \n",
    "    \n",
    "    doc = nlp(text)\n",
    "\n",
    "    tokens = [token.lemma_ for token in doc if not token.is_stop and token.lemma_.strip() != '']\n",
    "\n",
    "    return \" \".join(tokens)\n"
   ]
  },
  {
   "cell_type": "code",
   "execution_count": 10,
   "id": "fdb430cc-3686-4012-94f7-62d3d419e7e2",
   "metadata": {},
   "outputs": [
    {
     "name": "stdout",
     "output_type": "stream",
     "text": [
      "musician tackle red tape musician group tackle visa regulation blame hinder british act chance succeed atlantic\n"
     ]
    }
   ],
   "source": [
    "sample = \"\"\"Musicians to tackle US red tape. \n",
    "Musicians groups are to tackle US visa regulations \n",
    "which are blamed for hindering British acts chances of succeeding across the Atlantic.\"\"\"\n",
    "\n",
    "print(preprocess_text(sample))"
   ]
  },
  {
   "cell_type": "code",
   "execution_count": 11,
   "id": "034779d9-a8ab-430f-9691-4d9c144dd407",
   "metadata": {},
   "outputs": [
    {
     "name": "stdout",
     "output_type": "stream",
     "text": [
      "{'business': np.int64(0), 'entertainment': np.int64(1), 'politics': np.int64(2), 'sport': np.int64(3), 'tech': np.int64(4)}\n"
     ]
    }
   ],
   "source": [
    "from sklearn.preprocessing import LabelEncoder\n",
    "\n",
    "le = LabelEncoder()\n",
    "\n",
    "df['label_num'] = le.fit_transform(df['labels'])\n",
    "\n",
    "label_mapping = dict(zip(le.classes_, le.transform(le.classes_)))\n",
    "print(label_mapping)"
   ]
  },
  {
   "cell_type": "code",
   "execution_count": 12,
   "id": "b372afc0-cada-492a-b8a8-2d639ab059c0",
   "metadata": {},
   "outputs": [],
   "source": [
    "df['clean_text'] = df['data'].apply(preprocess_text)"
   ]
  },
  {
   "cell_type": "code",
   "execution_count": 13,
   "id": "fdf1390e-a5fa-4e46-8ccd-e6c3608f1097",
   "metadata": {},
   "outputs": [
    {
     "data": {
      "text/html": [
       "<div>\n",
       "<style scoped>\n",
       "    .dataframe tbody tr th:only-of-type {\n",
       "        vertical-align: middle;\n",
       "    }\n",
       "\n",
       "    .dataframe tbody tr th {\n",
       "        vertical-align: top;\n",
       "    }\n",
       "\n",
       "    .dataframe thead th {\n",
       "        text-align: right;\n",
       "    }\n",
       "</style>\n",
       "<table border=\"1\" class=\"dataframe\">\n",
       "  <thead>\n",
       "    <tr style=\"text-align: right;\">\n",
       "      <th></th>\n",
       "      <th>data</th>\n",
       "      <th>labels</th>\n",
       "      <th>label_num</th>\n",
       "      <th>clean_text</th>\n",
       "    </tr>\n",
       "  </thead>\n",
       "  <tbody>\n",
       "    <tr>\n",
       "      <th>0</th>\n",
       "      <td>Musicians to tackle US red tape  Musicians gro...</td>\n",
       "      <td>entertainment</td>\n",
       "      <td>1</td>\n",
       "      <td>musician tackle red tape musician group tackle...</td>\n",
       "    </tr>\n",
       "    <tr>\n",
       "      <th>1</th>\n",
       "      <td>U2s desire to be number one  U2, who have won ...</td>\n",
       "      <td>entertainment</td>\n",
       "      <td>1</td>\n",
       "      <td>u s desire number u win prestigious grammy awa...</td>\n",
       "    </tr>\n",
       "    <tr>\n",
       "      <th>2</th>\n",
       "      <td>Rocker Doherty in on-stage fight  Rock singer ...</td>\n",
       "      <td>entertainment</td>\n",
       "      <td>1</td>\n",
       "      <td>rocker doherty stage fight rock singer pete do...</td>\n",
       "    </tr>\n",
       "    <tr>\n",
       "      <th>3</th>\n",
       "      <td>Snicket tops US box office chart  The film ada...</td>\n",
       "      <td>entertainment</td>\n",
       "      <td>1</td>\n",
       "      <td>snicket top box office chart film adaptation l...</td>\n",
       "    </tr>\n",
       "    <tr>\n",
       "      <th>4</th>\n",
       "      <td>Oceans Twelve raids box office  Oceans Twelve,...</td>\n",
       "      <td>entertainment</td>\n",
       "      <td>1</td>\n",
       "      <td>ocean raid box office ocean crime caper sequel...</td>\n",
       "    </tr>\n",
       "  </tbody>\n",
       "</table>\n",
       "</div>"
      ],
      "text/plain": [
       "                                                data         labels  \\\n",
       "0  Musicians to tackle US red tape  Musicians gro...  entertainment   \n",
       "1  U2s desire to be number one  U2, who have won ...  entertainment   \n",
       "2  Rocker Doherty in on-stage fight  Rock singer ...  entertainment   \n",
       "3  Snicket tops US box office chart  The film ada...  entertainment   \n",
       "4  Oceans Twelve raids box office  Oceans Twelve,...  entertainment   \n",
       "\n",
       "   label_num                                         clean_text  \n",
       "0          1  musician tackle red tape musician group tackle...  \n",
       "1          1  u s desire number u win prestigious grammy awa...  \n",
       "2          1  rocker doherty stage fight rock singer pete do...  \n",
       "3          1  snicket top box office chart film adaptation l...  \n",
       "4          1  ocean raid box office ocean crime caper sequel...  "
      ]
     },
     "execution_count": 13,
     "metadata": {},
     "output_type": "execute_result"
    }
   ],
   "source": [
    "df.head()"
   ]
  },
  {
   "cell_type": "code",
   "execution_count": 14,
   "id": "cb278616-bff9-4dc0-b61a-7254776db376",
   "metadata": {},
   "outputs": [
    {
     "name": "stdout",
     "output_type": "stream",
     "text": [
      "musician tackle red tape musician group tackle visa regulation blame hinder british act chance succeed atlantic singer hope perform expect pay xc xa simply obtain visa group include musician union call end raw deal face british performer act face comparable expense bureaucracy visit uk promotional purpose nigel mccune musician union say british musician disadvantaged compare counterpart sponsor petition behalf form amount nearly page musician face tough regulation athlete journalist mistake form risk year ban ability career say mr mccune world big music market mean creaky bureaucracy say mr mccune current situation prevent british act maintain momentum develop add musician union stance endorse music manager forum mmf british artist face uphill struggle succeed thank tough visa requirement see impractical mmfs general secretary james seller say imagine orchestra orkney member travel london visa process market see holy grail benchmark success go fight important market like europe india china add mr seller department medium culture sport spokeswoman say aware people experience problem work embassy record industry embassy spokesman say aware entertainer require visa time specific visa process application speedily aware importance cultural exchange good facilitate add\n"
     ]
    }
   ],
   "source": [
    "print(df['clean_text'].iloc[0])"
   ]
  },
  {
   "cell_type": "markdown",
   "id": "33ff6895-f47d-4389-8086-756c36744762",
   "metadata": {},
   "source": [
    "### Feature Extraction"
   ]
  },
  {
   "cell_type": "code",
   "execution_count": 15,
   "id": "15209e7e-15b6-4a1b-bb5a-96bce324c1b7",
   "metadata": {},
   "outputs": [],
   "source": [
    "from sklearn.feature_extraction.text import TfidfVectorizer\n",
    "\n",
    "tfidf = TfidfVectorizer() \n",
    "X = tfidf.fit_transform(df['clean_text'])\n",
    "y = df['label_num']"
   ]
  },
  {
   "cell_type": "code",
   "execution_count": 16,
   "id": "00f7f052-b862-48cf-b262-cdd962446ba9",
   "metadata": {},
   "outputs": [
    {
     "data": {
      "text/plain": [
       "<Compressed Sparse Row sparse matrix of dtype 'float64'\n",
       "\twith 292392 stored elements and shape (2225, 22649)>"
      ]
     },
     "execution_count": 16,
     "metadata": {},
     "output_type": "execute_result"
    }
   ],
   "source": [
    "X"
   ]
  },
  {
   "cell_type": "markdown",
   "id": "4d3eb152-0e97-45fe-93ce-31be2a743bc1",
   "metadata": {},
   "source": [
    "### Train-Test Split"
   ]
  },
  {
   "cell_type": "code",
   "execution_count": 17,
   "id": "9b6ca07d-25b4-48fb-969b-4ca171733c33",
   "metadata": {},
   "outputs": [],
   "source": [
    "from sklearn.model_selection import train_test_split\n",
    "\n",
    "X_train, X_test, y_train, y_test = train_test_split(\n",
    "    X, y, test_size=0.2, stratify=y, random_state=42\n",
    ")"
   ]
  },
  {
   "cell_type": "code",
   "execution_count": 21,
   "id": "fe31234f-39d1-4834-9e4e-44e525baa1ca",
   "metadata": {},
   "outputs": [
    {
     "data": {
      "text/plain": [
       "(1780, 22649)"
      ]
     },
     "execution_count": 21,
     "metadata": {},
     "output_type": "execute_result"
    }
   ],
   "source": [
    "X_train.shape"
   ]
  },
  {
   "cell_type": "markdown",
   "id": "02af7269-8c32-43af-a287-a23d074da5a3",
   "metadata": {},
   "source": [
    "### Model Training"
   ]
  },
  {
   "cell_type": "code",
   "execution_count": 31,
   "id": "a4459597-894d-4067-9ffb-704c5df7a336",
   "metadata": {},
   "outputs": [
    {
     "name": "stdout",
     "output_type": "stream",
     "text": [
      "NB Accuracy: 0.9685393258426966\n"
     ]
    }
   ],
   "source": [
    "from sklearn.naive_bayes import MultinomialNB\n",
    "\n",
    "nb = MultinomialNB()\n",
    "nb.fit(X_train, y_train)\n",
    "y_pred_nb = nb.predict(X_test)\n",
    "print(\"NB Accuracy:\", nb.score(X_test, y_test))"
   ]
  },
  {
   "cell_type": "code",
   "execution_count": 27,
   "id": "b2df100a-d161-4401-888c-bad152dc20b0",
   "metadata": {},
   "outputs": [
    {
     "name": "stdout",
     "output_type": "stream",
     "text": [
      "LR Accuracy: 0.9797752808988764\n"
     ]
    }
   ],
   "source": [
    "from sklearn.linear_model import LogisticRegression\n",
    "\n",
    "lr = LogisticRegression(max_iter=1000)\n",
    "lr.fit(X_train, y_train)\n",
    "y_pred_lr = lr.predict(X_test)\n",
    "print(\"LR Accuracy:\", lr.score(X_test, y_test))"
   ]
  },
  {
   "cell_type": "code",
   "execution_count": 28,
   "id": "12de02c3-25f7-4610-bca3-bb3a109505a2",
   "metadata": {},
   "outputs": [
    {
     "name": "stdout",
     "output_type": "stream",
     "text": [
      "SVM Accuracy: 0.9865168539325843\n"
     ]
    }
   ],
   "source": [
    "from sklearn.svm import LinearSVC\n",
    "\n",
    "svm = LinearSVC()\n",
    "svm.fit(X_train, y_train)\n",
    "y_pred_svm = svm.predict(X_test)\n",
    "print(\"SVM Accuracy:\", svm.score(X_test, y_test))"
   ]
  },
  {
   "cell_type": "code",
   "execution_count": 29,
   "id": "8708912e-e611-49ac-9b85-585c302da588",
   "metadata": {},
   "outputs": [
    {
     "name": "stdout",
     "output_type": "stream",
     "text": [
      "RF Accuracy: 0.9730337078651685\n"
     ]
    }
   ],
   "source": [
    "from sklearn.ensemble import RandomForestClassifier\n",
    "\n",
    "rf = RandomForestClassifier(n_estimators=200, random_state=42)\n",
    "rf.fit(X_train, y_train)\n",
    "print(\"RF Accuracy:\", rf.score(X_test, y_test))"
   ]
  },
  {
   "cell_type": "code",
   "execution_count": 23,
   "id": "81a34c6a-4d5d-4e67-a236-b33d37930270",
   "metadata": {},
   "outputs": [],
   "source": [
    "y_pred = nb.predict(X_test)"
   ]
  },
  {
   "cell_type": "markdown",
   "id": "5e568da8-f62b-44df-ade9-b2087a22c18f",
   "metadata": {},
   "source": [
    "### Model Evaluation "
   ]
  },
  {
   "cell_type": "code",
   "execution_count": 35,
   "id": "5e4b815a-7387-4533-81ef-e2aca080d032",
   "metadata": {},
   "outputs": [
    {
     "name": "stdout",
     "output_type": "stream",
     "text": [
      "SVM Accuracy: 0.9865168539325843\n",
      "\n",
      "Classification Report:\n",
      "                precision    recall  f1-score   support\n",
      "\n",
      "     business       0.98      0.99      0.99       102\n",
      "entertainment       0.96      1.00      0.98        77\n",
      "     politics       0.99      0.98      0.98        84\n",
      "        sport       1.00      1.00      1.00       102\n",
      "         tech       1.00      0.96      0.98        80\n",
      "\n",
      "     accuracy                           0.99       445\n",
      "    macro avg       0.99      0.99      0.99       445\n",
      " weighted avg       0.99      0.99      0.99       445\n",
      "\n"
     ]
    },
    {
     "data": {
      "image/png": "[encoded data removed]",
      "text/plain": [
       "<Figure size 600x500 with 2 Axes>"
      ]
     },
     "metadata": {},
     "output_type": "display_data"
    }
   ],
   "source": [
    "from sklearn.svm import LinearSVC\n",
    "from sklearn.metrics import accuracy_score, classification_report, confusion_matrix\n",
    "import seaborn as sns\n",
    "import matplotlib.pyplot as plt\n",
    "\n",
    "svm = LinearSVC()\n",
    "svm.fit(X_train, y_train)\n",
    "\n",
    "y_pred_svm = svm.predict(X_test)\n",
    "\n",
    "print(\"SVM Accuracy:\", accuracy_score(y_test, y_pred_svm))\n",
    "\n",
    "print(\"\\nClassification Report:\\n\", \n",
    "      classification_report(y_test, y_pred_svm, target_names=le.classes_))\n",
    "\n",
    "cm = confusion_matrix(y_test, y_pred_svm)\n",
    "plt.figure(figsize=(6,5))\n",
    "sns.heatmap(cm, annot=True, fmt='d', cmap=\"Blues\", \n",
    "            xticklabels=le.classes_, yticklabels=le.classes_)\n",
    "plt.xlabel(\"Predicted\")\n",
    "plt.ylabel(\"Actual\")\n",
    "plt.title(\"SVM Confusion Matrix\")\n",
    "plt.show()"
   ]
  },
  {
   "cell_type": "code",
   "execution_count": 36,
   "id": "56246017-31da-4557-81c2-fbf6ea807817",
   "metadata": {},
   "outputs": [
    {
     "name": "stdout",
     "output_type": "stream",
     "text": [
      "1.5.2\n"
     ]
    }
   ],
   "source": [
    "import joblib\n",
    "\n",
    "model = joblib.load(\"bbc_svm_model.pkl\")\n",
    "vectorizer = joblib.load(\"tfidf_vectorizer.pkl\")"
   ]
  },
  {
   "cell_type": "code",
   "execution_count": 37,
   "id": "ff9447b0-873c-4a39-8fa2-0a93185e171c",
   "metadata": {},
   "outputs": [
    {
     "data": {
      "text/plain": [
       "['tfidf_vectorizer.pkl']"
      ]
     },
     "execution_count": 37,
     "metadata": {},
     "output_type": "execute_result"
    }
   ],
   "source": [
    "import joblib\n",
    "\n",
    "joblib.dump(svm, \"svm_model.pkl\")\n",
    "joblib.dump(tfidf, \"tfidf_vectorizer.pkl\")"
   ]
  },
  {
   "cell_type": "code",
   "execution_count": 39,
   "id": "00e2113d-63c4-4e48-97ba-afcbaf41e881",
   "metadata": {},
   "outputs": [
    {
     "data": {
      "text/plain": [
       "['label_encoder.pkl']"
      ]
     },
     "execution_count": 39,
     "metadata": {},
     "output_type": "execute_result"
    }
   ],
   "source": [
    "joblib.dump(le, \"label_encoder.pkl\")"
   ]
  },
  {
   "cell_type": "code",
   "execution_count": null,
   "id": "9877dbc5-5086-4649-94c3-3ca7e9c497ef",
   "metadata": {},
   "outputs": [],
   "source": []
  }
 ],
 "metadata": {
  "kernelspec": {
   "display_name": "Python 3 (ipykernel)",
   "language": "python",
   "name": "python3"
  },
  "language_info": {
   "codemirror_mode": {
    "name": "ipython",
    "version": 3
   },
   "file_extension": ".py",
   "mimetype": "text/x-python",
   "name": "python",
   "nbconvert_exporter": "python",
   "pygments_lexer": "ipython3",
   "version": "3.13.7"
  }
 },
 "nbformat": 4,
 "nbformat_minor": 5
}
